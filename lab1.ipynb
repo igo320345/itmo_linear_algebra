{
 "cells": [
  {
   "cell_type": "code",
   "execution_count": 25,
   "metadata": {},
   "outputs": [],
   "source": [
    "import numpy as np\n",
    "from sympy import Matrix\n",
    "from random import randint"
   ]
  },
  {
   "cell_type": "markdown",
   "metadata": {},
   "source": [
    "# Задание 1. Шифр Хилла"
   ]
  },
  {
   "cell_type": "markdown",
   "metadata": {},
   "source": [
    "Алфавит и его мощность"
   ]
  },
  {
   "cell_type": "code",
   "execution_count": 26,
   "metadata": {},
   "outputs": [
    {
     "data": {
      "text/plain": [
       "11"
      ]
     },
     "execution_count": 26,
     "metadata": {},
     "output_type": "execute_result"
    }
   ],
   "source": [
    "a = ['я', 'й', 'ц', 'е', 'р', 'о', 'ж', 'д', 'и', 'н', ',']\n",
    "n = len(a)\n",
    "n"
   ]
  },
  {
   "cell_type": "markdown",
   "metadata": {},
   "source": [
    "Ценное сообщение из 12 символов"
   ]
  },
  {
   "cell_type": "code",
   "execution_count": 27,
   "metadata": {},
   "outputs": [],
   "source": [
    "msg = 'яйцерождение'"
   ]
  },
  {
   "cell_type": "markdown",
   "metadata": {},
   "source": [
    "Три матрицы-ключа"
   ]
  },
  {
   "cell_type": "code",
   "execution_count": 28,
   "metadata": {},
   "outputs": [],
   "source": [
    "k2 = np.array([[1, 2], [3, 4]])\n",
    "k3 = np.array([[6, 24, 1], [13, 16, 10], [20, 17, 15]])\n",
    "k4 = np.array([[4, 3, 2, 1], [7, 6, 5, 8], [12, 11, 10, 9], [13, 16, 15, 14]])"
   ]
  },
  {
   "cell_type": "markdown",
   "metadata": {},
   "source": [
    "Убедимся в том, что определители матриц не имеют общих делителей с n"
   ]
  },
  {
   "cell_type": "code",
   "execution_count": 29,
   "metadata": {},
   "outputs": [
    {
     "name": "stdout",
     "output_type": "stream",
     "text": [
      "-2 441 -128\n",
      "Всё ОК\n"
     ]
    }
   ],
   "source": [
    "d2 = round(np.linalg.det(k2))\n",
    "d3 = round(np.linalg.det(k3))\n",
    "d4 = round(np.linalg.det(k4))\n",
    "print(d2, d3, d4)\n",
    "if np.gcd(d2, n) == 1 and np.gcd(d3, n) == 1 and np.gcd(d4, n) == 1:\n",
    "    print('Всё ОК')\n",
    "else:\n",
    "    print('Всё плохо!!!')"
   ]
  },
  {
   "cell_type": "markdown",
   "metadata": {},
   "source": [
    "Зашифруем сообщение с помощью каждого из ключей"
   ]
  },
  {
   "cell_type": "code",
   "execution_count": 30,
   "metadata": {},
   "outputs": [
    {
     "data": {
      "text/plain": [
       "('цриде,нц,йее', 'реен,оняндян', ',деяжйжйедяр')"
      ]
     },
     "execution_count": 30,
     "metadata": {},
     "output_type": "execute_result"
    }
   ],
   "source": [
    "def encrypt(msg, k):\n",
    "    dim = k.shape[0]\n",
    "    p = []\n",
    "    enc = ''\n",
    "    for i in range(len(msg)):\n",
    "        if i % dim == 0 and i != 0:\n",
    "            c = k.dot(p) % n\n",
    "            for j in c:\n",
    "                enc += a[j]\n",
    "            p = []\n",
    "        p.append(a.index(msg[i]))\n",
    "    c = k.dot(p) % n\n",
    "    for j in c:\n",
    "        enc += a[j]\n",
    "    return enc\n",
    "\n",
    "enc2, enc3, enc4 = encrypt(msg, k2), encrypt(msg, k3), encrypt(msg, k4)\n",
    "enc2, enc3, enc4"
   ]
  },
  {
   "cell_type": "markdown",
   "metadata": {},
   "source": [
    "Расшифрование работает как надо"
   ]
  },
  {
   "cell_type": "code",
   "execution_count": 31,
   "metadata": {},
   "outputs": [
    {
     "data": {
      "text/plain": [
       "('яйцерождение', 'яйцерождение', 'яйцерождение')"
      ]
     },
     "execution_count": 31,
     "metadata": {},
     "output_type": "execute_result"
    }
   ],
   "source": [
    "def decrypt(enc, k):\n",
    "    dim = k.shape[0]\n",
    "    p = []\n",
    "    dec = ''\n",
    "    k_inv = np.array(Matrix(k).inv_mod(n))\n",
    "    for i in range(len(enc)):\n",
    "        if i % dim == 0 and i != 0:\n",
    "            c = k_inv.dot(p) % n\n",
    "            for j in c:\n",
    "                dec += a[j]\n",
    "            p = []\n",
    "        p.append(a.index(enc[i]))\n",
    "    c = k_inv.dot(p) % n\n",
    "    for j in c:\n",
    "        dec += a[j]\n",
    "    return dec\n",
    "decrypt(enc2, k2), decrypt(enc3, k3), decrypt(enc4, k4)"
   ]
  },
  {
   "cell_type": "markdown",
   "metadata": {},
   "source": [
    "Сымитируем вредоносное вмешательство"
   ]
  },
  {
   "cell_type": "code",
   "execution_count": 32,
   "metadata": {},
   "outputs": [
    {
     "data": {
      "text/plain": [
       "('цридц,нц,дйе', 'реян,ониндяд', ',дняжйжйедяр')"
      ]
     },
     "execution_count": 32,
     "metadata": {},
     "output_type": "execute_result"
    }
   ],
   "source": [
    "for _ in range(3):\n",
    "    enc2 = list(enc2)\n",
    "    enc2[randint(0, 11)] = a[randint(0, n - 1)]\n",
    "    enc2 = ''.join(enc2)\n",
    "    enc3 = list(enc3)\n",
    "    enc3[randint(0, 11)] = a[randint(0, n - 1)]\n",
    "    enc3 = ''.join(enc3)\n",
    "    enc4 = list(enc4)\n",
    "    enc4[randint(0, 11)] = a[randint(0, n - 1)]\n",
    "    enc4 = ''.join(enc4)\n",
    "enc2, enc3, enc4"
   ]
  },
  {
   "cell_type": "markdown",
   "metadata": {},
   "source": [
    "Расшифруем получившиеся строки"
   ]
  },
  {
   "cell_type": "code",
   "execution_count": 33,
   "metadata": {},
   "outputs": [
    {
     "data": {
      "text/plain": [
       "('яйцежнжднжйя', ',,йеройжцйеж', ',ее,рождение')"
      ]
     },
     "execution_count": 33,
     "metadata": {},
     "output_type": "execute_result"
    }
   ],
   "source": [
    "decrypt(enc2, k2), decrypt(enc3, k3), decrypt(enc4, k4)"
   ]
  },
  {
   "cell_type": "markdown",
   "metadata": {},
   "source": [
    "# Задание 2. Взлом шифра Хилла"
   ]
  },
  {
   "cell_type": "markdown",
   "metadata": {},
   "source": [
    "Ключ размер 2х2"
   ]
  },
  {
   "cell_type": "code",
   "execution_count": 34,
   "metadata": {},
   "outputs": [],
   "source": [
    "k2 = np.array([[1, 3], [3, 1]])"
   ]
  },
  {
   "cell_type": "markdown",
   "metadata": {},
   "source": [
    "Два сообщения из 12 символов"
   ]
  },
  {
   "cell_type": "code",
   "execution_count": 35,
   "metadata": {},
   "outputs": [],
   "source": [
    "msg1 = 'рождениеяйце'\n",
    "msg2 = 'яйцерождение'"
   ]
  },
  {
   "cell_type": "markdown",
   "metadata": {},
   "source": [
    "Шифруем оба сообщения"
   ]
  },
  {
   "cell_type": "code",
   "execution_count": 36,
   "metadata": {},
   "outputs": [
    {
     "data": {
      "text/plain": [
       "('ижоеиджоейян', 'ейянижоеиджо')"
      ]
     },
     "execution_count": 36,
     "metadata": {},
     "output_type": "execute_result"
    }
   ],
   "source": [
    "enc1, enc2 = encrypt(msg1, k2), encrypt(msg2, k2)\n",
    "enc1, enc2"
   ]
  },
  {
   "cell_type": "markdown",
   "metadata": {},
   "source": [
    "Забываем одно из исходных сообщений"
   ]
  },
  {
   "cell_type": "code",
   "execution_count": 37,
   "metadata": {},
   "outputs": [],
   "source": [
    "msg1 = ''"
   ]
  },
  {
   "cell_type": "markdown",
   "metadata": {},
   "source": [
    "Восстанавливаем ключ по исходному и зашифрованному сообщению"
   ]
  },
  {
   "cell_type": "code",
   "execution_count": 38,
   "metadata": {},
   "outputs": [],
   "source": [
    "p, c = [], []\n",
    "P, C = [], []\n",
    "for i in range(4):\n",
    "    p.append(a.index(msg2[i]))\n",
    "    c.append(a.index(enc2[i]))\n",
    "    if len(p) == 2:\n",
    "        P.append(p)\n",
    "        C.append(c)\n",
    "        p, c = [], []\n",
    "P = np.array(P)\n",
    "C = np.array(C)\n",
    "k = np.array((Matrix(P).inv_mod(n)  * Matrix(C)) % n, dtype=int)\n"
   ]
  },
  {
   "cell_type": "markdown",
   "metadata": {},
   "source": [
    "Расшифровываем забытое сообщение"
   ]
  },
  {
   "cell_type": "code",
   "execution_count": 39,
   "metadata": {},
   "outputs": [
    {
     "data": {
      "text/plain": [
       "'рождениеяйце'"
      ]
     },
     "execution_count": 39,
     "metadata": {},
     "output_type": "execute_result"
    }
   ],
   "source": [
    "decrypt(enc1, k)"
   ]
  },
  {
   "cell_type": "markdown",
   "metadata": {},
   "source": [
    "# Задание 3. Код Хэмминга"
   ]
  },
  {
   "cell_type": "markdown",
   "metadata": {},
   "source": [
    "Русский алфавит"
   ]
  },
  {
   "cell_type": "code",
   "execution_count": 40,
   "metadata": {},
   "outputs": [
    {
     "data": {
      "text/plain": [
       "32"
      ]
     },
     "execution_count": 40,
     "metadata": {},
     "output_type": "execute_result"
    }
   ],
   "source": [
    "a = ['а', 'б', 'в', 'г', 'д', 'е', 'ж', 'з', 'и', 'й', 'к', 'л', 'м', 'н','о', 'п', 'р', 'с', 'т', 'у', 'ф','х', 'ц', 'ч', 'ш', 'щ', 'ъ', 'ы', 'ь', 'э','ю','я']\n",
    "n = len(a)\n",
    "n"
   ]
  },
  {
   "cell_type": "markdown",
   "metadata": {},
   "source": [
    "Присвоим каждой букве пятибитовый двоичный номер"
   ]
  },
  {
   "cell_type": "code",
   "execution_count": 41,
   "metadata": {},
   "outputs": [],
   "source": [
    "def bin(i):\n",
    "    r = ''\n",
    "    while i > 0:\n",
    "        r += str(i % 2)\n",
    "        i //= 2\n",
    "    while len(r) < 5:\n",
    "        r += '0'\n",
    "    return r[::-1]\n",
    "\n",
    "a_bin = [bin(i) for i in range(n)]"
   ]
  },
  {
   "cell_type": "markdown",
   "metadata": {},
   "source": [
    "Интересное слово из 4 букв"
   ]
  },
  {
   "cell_type": "code",
   "execution_count": 42,
   "metadata": {},
   "outputs": [],
   "source": [
    "word = 'шифр'"
   ]
  },
  {
   "cell_type": "markdown",
   "metadata": {},
   "source": [
    "Закодируем его двоичным кодом"
   ]
  },
  {
   "cell_type": "code",
   "execution_count": 43,
   "metadata": {},
   "outputs": [
    {
     "data": {
      "text/plain": [
       "'11000010001010010000'"
      ]
     },
     "execution_count": 43,
     "metadata": {},
     "output_type": "execute_result"
    }
   ],
   "source": [
    "enc_bin = ''.join([a_bin[a.index(c)] for c in word])\n",
    "enc_bin"
   ]
  },
  {
   "cell_type": "markdown",
   "metadata": {},
   "source": [
    "Матрицы G и H "
   ]
  },
  {
   "cell_type": "code",
   "execution_count": 44,
   "metadata": {},
   "outputs": [],
   "source": [
    "G = np.array([[1, 1, 0, 1], [1, 0, 1, 1], [1, 0, 0, 0], [0, 1, 1, 1], [0, 1, 0, 0], [0, 0, 1, 0], [0, 0, 0, 1]])\n",
    "H = np.array([[1, 0, 1, 0, 1, 0, 1], [0, 1, 1, 0, 0, 1, 1], [0, 0, 0, 1, 1, 1, 1]])"
   ]
  },
  {
   "cell_type": "markdown",
   "metadata": {},
   "source": [
    "Почему матрицы G и H составлены именно так?\n",
    "\n",
    "Матрица G - матрица-генератор кодов. Преобразует сообщение в виде вектора размерности (4, 1) в вектор размерности (7, 1), добавляя три дополнительных бита четности. Соответственно размер матрицы (7, 4)\n",
    "\n",
    "Матрица H - проверяет на наличие \"испорченных\" битов в закодированном сообщении. Возвратит нуль-вектор, если сообщение не было испорчено, иначе укажет испорченный бит. Преобразует вектор размерности (7, 1) в вектор размерности (3, 1). Соответственно размер матрицы (3, 7)\n",
    "\n",
    "Можно сделать вывод, что Im(G) = Ker(H)\n",
    "\n",
    "Hamming (7, 4) позволяет найти и исправить 1 испорченных бит в 4-х битовом сообщении (если испорчено 2 бита, то мы можем только узнать об этом, но не исправить). Для этого  добавляются 3 бита четности, которые должны покрывать 4 бита исходного сообщения. Номер бита четности в сообщении будет равен степени двойки (то есть в закодированном сообщении 1ый, 2ой и 4ый биты будут битами четности). Каждый из битов четности будет отвечать за 3 бита данных (значение бита четности будет зависить от значений 3 бит данных, 4 бита вместе должны составлять четное количество единиц).\n",
    "\n",
    "![Диаграмма](assets/hamming-7-4-ab.jpg)\n",
    "\n"
   ]
  },
  {
   "cell_type": "markdown",
   "metadata": {},
   "source": [
    "Закодируем слово с помощью матрицы G"
   ]
  },
  {
   "cell_type": "code",
   "execution_count": 45,
   "metadata": {},
   "outputs": [
    {
     "data": {
      "text/plain": [
       "'01111000101010010101000110010000000'"
      ]
     },
     "execution_count": 45,
     "metadata": {},
     "output_type": "execute_result"
    }
   ],
   "source": [
    "encoded_word = ''\n",
    "for i in range(0, len(enc_bin), 4):\n",
    "    p = np.array([int(c) for c in enc_bin[i : i + 4]])\n",
    "    x = G.dot(p) % 2\n",
    "    encoded_word += ''.join([str(i) for i in x])\n",
    "encoded_word"
   ]
  },
  {
   "cell_type": "markdown",
   "metadata": {},
   "source": [
    "Сымитируем вредоносное вмешательство"
   ]
  },
  {
   "cell_type": "code",
   "execution_count": 46,
   "metadata": {},
   "outputs": [],
   "source": [
    "broken_words = []\n",
    "broken1 = list(encoded_word)\n",
    "for _ in range(1):\n",
    "    i = randint(0, len(broken1) - 1)\n",
    "    broken1[i] = '1' if broken1[i] == '0' else '0'\n",
    "broken1 = ''.join(broken1)\n",
    "broken_words.append(broken1)\n",
    "\n",
    "broken2 = list(encoded_word)\n",
    "for _ in range(2):\n",
    "    i = randint(0, len(broken2) - 1)\n",
    "    broken2[i] = '1' if broken2[i] == '0' else '0'\n",
    "broken2 = ''.join(broken2)\n",
    "broken_words.append(broken2)\n",
    "\n",
    "broken3 = list(encoded_word)\n",
    "for _ in range(3):\n",
    "    i = randint(0, len(broken3) - 1)\n",
    "    broken3[i] = '1' if broken3[i] == '0' else '0'\n",
    "broken3 = ''.join(broken3)\n",
    "broken_words.append(broken3)\n",
    "\n",
    "broken4 = list(encoded_word)\n",
    "for _ in range(4):\n",
    "    i = randint(0, len(broken4) - 1)\n",
    "    broken4[i] = '1' if broken4[i] == '0' else '0'\n",
    "broken4 = ''.join(broken4)\n",
    "broken_words.append(broken4)"
   ]
  },
  {
   "cell_type": "markdown",
   "metadata": {},
   "source": [
    "Находим и исправляем ошибки с помощью матрицы H и декодируем сообщение"
   ]
  },
  {
   "cell_type": "code",
   "execution_count": 47,
   "metadata": {},
   "outputs": [
    {
     "name": "stdout",
     "output_type": "stream",
     "text": [
      "[0 0 0]\n",
      "[0 0 0]\n",
      "[0 0 0]\n",
      "[1 1 1]\n",
      "[0 0 0]\n",
      "---\n",
      "[0 0 0]\n",
      "[1 0 0]\n",
      "[0 0 0]\n",
      "[1 0 1]\n",
      "[0 0 0]\n",
      "---\n",
      "[1 1 0]\n",
      "[0 0 0]\n",
      "[1 1 1]\n",
      "[0 1 0]\n",
      "[0 0 0]\n",
      "---\n",
      "[0 1 1]\n",
      "[0 0 0]\n",
      "[0 0 0]\n",
      "[1 0 0]\n",
      "[0 1 0]\n",
      "---\n"
     ]
    }
   ],
   "source": [
    "R = np.array([[0, 0, 1, 0, 0, 0, 0], [0, 0, 0, 0, 1, 0, 0], [0, 0, 0, 0, 0, 1, 0], [0, 0, 0, 0, 0, 0, 1]])\n",
    "word_bins = []\n",
    "for broken in broken_words:\n",
    "    word_bin = ''\n",
    "    for i in range(0, len(broken), 7):\n",
    "        r = np.array([int(c) for c in broken[i : i + 7]])\n",
    "        z = H.dot(r) % 2\n",
    "        print(z)\n",
    "        if sum(z) != 0:\n",
    "            idx = int(''.join([str(n) for n in z[::-1]]), 2) - 1\n",
    "            r[idx] = 1 if r[idx] == 0 else 0\n",
    "        p = R.dot(r) % 2\n",
    "        word_bin += ''.join([str(i) for i in p])\n",
    "    print('---')\n",
    "    word_bins.append(word_bin)"
   ]
  },
  {
   "cell_type": "markdown",
   "metadata": {},
   "source": [
    "Переводим полученный результат в слово из 4-х букв"
   ]
  },
  {
   "cell_type": "code",
   "execution_count": 48,
   "metadata": {},
   "outputs": [
    {
     "name": "stdout",
     "output_type": "stream",
     "text": [
      "шифр\n",
      "шифр\n",
      "шифр\n",
      "шифх\n"
     ]
    }
   ],
   "source": [
    "for word_bin in word_bins:\n",
    "    result = ''\n",
    "    for i in range(0, len(word_bin), 5):\n",
    "        result += a[a_bin.index(word_bin[i : i + 5])]\n",
    "    print(result)"
   ]
  },
  {
   "cell_type": "markdown",
   "metadata": {},
   "source": [
    "# Задание 4. Код Хэмминга?"
   ]
  },
  {
   "cell_type": "markdown",
   "metadata": {},
   "source": [
    "Данную задачу можно решить с помощью кода Хэмминга.\n",
    "\n",
    "Пронумеруем все клетки доски слева направо сверху вниз от 0 до 63. 1, 2, 4, 8, 16, 32 клетки будут битами четности, всего 6 бит четности. Матрица H должна получить на вход вектор из 64 бит и вернуть вектор из 6 бит, который будет двоичным представлением номера клетки с ключом. Размерность матрицы H (6, 64).\n",
    "\n",
    "Матрица будет заполняться так же, как и в случае hamming (7, 4)\n",
    "\n",
    "![Как заполнить матрицу](assets/bGc9m.jpg)"
   ]
  }
 ],
 "metadata": {
  "kernelspec": {
   "display_name": "Python 3",
   "language": "python",
   "name": "python3"
  },
  "language_info": {
   "codemirror_mode": {
    "name": "ipython",
    "version": 3
   },
   "file_extension": ".py",
   "mimetype": "text/x-python",
   "name": "python",
   "nbconvert_exporter": "python",
   "pygments_lexer": "ipython3",
   "version": "3.10.12"
  },
  "orig_nbformat": 4
 },
 "nbformat": 4,
 "nbformat_minor": 2
}
